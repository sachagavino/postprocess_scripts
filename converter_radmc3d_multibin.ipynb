{
 "cells": [
  {
   "cell_type": "code",
   "execution_count": 1,
   "id": "ec790e1c-d53d-4399-9609-870b11a6d813",
   "metadata": {},
   "outputs": [
    {
     "name": "stdout",
     "output_type": "stream",
     "text": [
      "Python 3.10.16\n"
     ]
    }
   ],
   "source": [
    "!python --version"
   ]
  },
  {
   "cell_type": "code",
   "execution_count": 1,
   "id": "6e78644d-3313-42a1-ad6e-10a198de9cc9",
   "metadata": {},
   "outputs": [],
   "source": [
    "import binascii, os, sys\n",
    "import datetime as dt\n",
    "\n",
    "import numpy as np\n",
    "import pandas as pd\n",
    "\n",
    "import pymses\n",
    "from pymses.utils import constants as C\n",
    "from pymses.filters import CellsToPoints\n",
    "\n",
    "\n",
    "import matplotlib.pyplot as plt\n",
    "from matplotlib.colors import LogNorm\n",
    "from matplotlib.gridspec import GridSpec\n",
    "from mpl_toolkits.axes_grid1.anchored_artists import AnchoredSizeBar\n",
    "import matplotlib.font_manager as fm\n",
    "from matplotlib import patches\n",
    "from matplotlib import ticker\n",
    "from mpl_toolkits.mplot3d import Axes3D\n",
    "from matplotlib.colors import to_rgb, to_rgba"
   ]
  },
  {
   "cell_type": "code",
   "execution_count": 3,
   "id": "943be563",
   "metadata": {},
   "outputs": [
    {
     "name": "stdout",
     "output_type": "stream",
     "text": [
      "1.26.4\n"
     ]
    }
   ],
   "source": [
    "print(np.__version__)"
   ]
  },
  {
   "cell_type": "code",
   "execution_count": 4,
   "id": "5422464f",
   "metadata": {},
   "outputs": [],
   "source": [
    "dust_to_gas = 0.01\n",
    "\n",
    "au    = 1.49598e13         # Astronomical Unit         [cm]\n",
    "pc    = 3.08572e18         # Parsec                    [cm]\n",
    "ms    = 1.98892e33         # Solar mass                [g]\n",
    "ts    = 5.78e3             # Solar temperature         [K]\n",
    "ls    = 3.8525e33          # Solar luminosity          [erg/s]\n",
    "rs    = 6.96e10            # Solar radius              [cm]\n",
    "sigma = 5.670374419e-5     # Stefan–Boltzmann constant [cgs]\n",
    "c     = 2.99792458e10      # Speed of light            [cm/s]\n",
    "#\n",
    "# Unit conversion:\n",
    "#\n",
    "pc2cm   = 3.085677581e18\n",
    "pc2m    = 3.085677581e16\n",
    "au2cm   = 1.495978707e13\n",
    "au2m = 1.4959787070e11\n",
    "cgs2jy  = 1e23             # Convert from CGS to Jy/px"
   ]
  },
  {
   "cell_type": "markdown",
   "id": "a781adac",
   "metadata": {},
   "source": [
    "# OcTree Class"
   ]
  },
  {
   "cell_type": "code",
   "execution_count": 5,
   "id": "887e3bc9",
   "metadata": {},
   "outputs": [],
   "source": [
    "class cell_oct:\n",
    "    \"\"\"written by Stefan Reiss\"\"\"\n",
    "    def __init__(self, _x_min, _y_min, _z_min, _length, _level):\n",
    "        self.x_min = _x_min\n",
    "        self.y_min = _y_min\n",
    "        self.z_min = _z_min\n",
    "        \n",
    "        self.length = _length\n",
    "        self.level = _level\n",
    "    \n",
    "        self.isleaf = 0\n",
    "        self.data = []\n",
    "        self.branches = []  \n",
    "                  \n",
    "class OcTree:\n",
    "    \"\"\"written by Stefan Reiss\"\"\"\n",
    "    def __init__(self, _x_min, _y_min, _z_min, _length):\n",
    "        self.root = cell_oct(_x_min, _y_min, _z_min, _length, 0)\n",
    "\n",
    "    def initCellBoundaries(self, cell,_level):\n",
    "        x_min = cell.x_min\n",
    "        y_min = cell.y_min\n",
    "        z_min = cell.z_min\n",
    "        l = 0.5 * cell.length\n",
    "\n",
    "        level = _level\n",
    "\n",
    "        cell.isleaf = 0\n",
    "        cell.data = []\n",
    "        cell.branches = [None, None, None, None, None, None, None, None]\n",
    "        cell.branches[0] = cell_oct(x_min, y_min, z_min, l, level)\n",
    "        cell.branches[1] = cell_oct(x_min + l, y_min, z_min, l, level)\n",
    "        cell.branches[2] = cell_oct(x_min, y_min + l, z_min, l, level)\n",
    "        cell.branches[3] = cell_oct(x_min + l, y_min + l, z_min, l, level)\n",
    "\n",
    "        cell.branches[4] = cell_oct(x_min, y_min, z_min + l, l, level)\n",
    "        cell.branches[5] = cell_oct(x_min + l, y_min, z_min + l, l, level)\n",
    "        cell.branches[6] = cell_oct(x_min, y_min + l, z_min + l, l, level)\n",
    "        cell.branches[7] = cell_oct(x_min + l, y_min + l, z_min + l, l, level)     \n",
    "        \n",
    "    def insertInTree(self, cell_pos, cell, _level):    \n",
    "        x_pos = cell.x_min\n",
    "        y_pos = cell.y_min\n",
    "        z_pos = cell.z_min\n",
    "\n",
    "        if cell_pos.level == cell.level:\n",
    "            cell_pos.data=cell.data\n",
    "            cell_pos.isleaf=1\n",
    "                        \n",
    "        else:    \n",
    "            if len(cell_pos.branches)==0:\n",
    "                self.initCellBoundaries(cell_pos,_level+1)\n",
    "\n",
    "            x_mid = cell_pos.x_min+0.5*cell_pos.length\n",
    "            y_mid = cell_pos.y_min+0.5*cell_pos.length\n",
    "            z_mid = cell_pos.z_min+0.5*cell_pos.length\n",
    "            \n",
    "            new_cell_pos = cell_pos\n",
    "\n",
    "            if(z_pos < z_mid): #z 0 1 2 3\n",
    "\n",
    "                if(y_pos < y_mid): #y 0 1\n",
    "\n",
    "                    if(x_pos < x_mid): #x 0\n",
    "                        new_cell_pos = cell_pos.branches[0]\n",
    "                    else: #x 1\n",
    "                        new_cell_pos = cell_pos.branches[1]\n",
    "\n",
    "                else: #y 2 3\n",
    "\n",
    "                    if(x_pos < x_mid): #x 2\n",
    "                        new_cell_pos = cell_pos.branches[2]\n",
    "                    else: #x 3\n",
    "                        new_cell_pos = cell_pos.branches[3]\n",
    "\n",
    "\n",
    "            else: #z 4 5 6 7\n",
    "\n",
    "                if(y_pos < y_mid): #y 4 5\n",
    "\n",
    "                    if(x_pos < x_mid): #x 4\n",
    "                        new_cell_pos = cell_pos.branches[4]\n",
    "                    else: #x 5\n",
    "                        new_cell_pos = cell_pos.branches[5]\n",
    "\n",
    "                else: #y 6 7\n",
    "\n",
    "                    if(x_pos < x_mid): #x 6\n",
    "                        new_cell_pos = cell_pos.branches[6]\n",
    "                    else: #x 7\n",
    "                        new_cell_pos = cell_pos.branches[7]\n",
    "\n",
    "            self.insertInTree(new_cell_pos, cell, _level+1)\n",
    "\n",
    "\n",
    "    def writeOcTree(self, file, cell):\n",
    "        global cell_counter\n",
    "        global nr_of_cells\n",
    "\n",
    "        file.write(struct.pack(\"H\", cell.isleaf))\n",
    "        file.write(struct.pack(\"H\", cell.level))   \n",
    "\n",
    "        if cell.isleaf == 1:    \n",
    "            data_len = len(cell.data)\n",
    "            \n",
    "            if cell_counter % 10000 == 0:\n",
    "                sys.stdout.write('-> Writing octree grid file : ' + str(100.0 * cell_counter / nr_of_cells) + ' %     \\r')\n",
    "                sys.stdout.flush()\n",
    "                \n",
    "            cell_counter += 1 \n",
    "         \n",
    "            for i in range(0, data_len):\n",
    "                file.write(struct.pack(\"f\", cell.data[i]))\n",
    "        else:\n",
    "            for i in range(8):\n",
    "                self.writeOcTree(file, cell.branches[i])\n",
    "                \n",
    "                \n",
    "    def checkOcTree(self, cell):\n",
    "        global cell_counter\n",
    "        global nr_of_cells\n",
    "\n",
    "        if cell.isleaf == 1:    \n",
    "            length = len(cell.data)\n",
    "            \n",
    "            if length == 0:\n",
    "                return False\n",
    "            \n",
    "            \n",
    "            if cell_counter % 10000 == 0:\n",
    "                sys.stdout.write('-> Checking octree integrity : ' + str(100.0 * cell_counter / nr_of_cells) + ' %     \\r')\n",
    "                sys.stdout.flush()\n",
    "                \n",
    "            cell_counter += 1    \n",
    "            \n",
    "        else:\n",
    "            length = len(cell.branches)\n",
    "            \n",
    "            if length == 0:\n",
    "                return False\n",
    "            \n",
    "            for i in range(8):\n",
    "                self.checkOcTree(cell.branches[i])                \n",
    "                \n",
    "        return True\n",
    "                \n",
    "    def writeOcTree_radmc(self, cell, grid, density):\n",
    "        global cell_counter\n",
    "        global nr_of_cells\n",
    "\n",
    "        if cell.isleaf == 1:    \n",
    "            data_len = len(cell.data)\n",
    "            \n",
    "            if cell_counter % 10000 == 0:\n",
    "                sys.stdout.write('-> Writing octree grid file : ' + str(100.0 * cell_counter / nr_of_cells) + ' %     \\r')\n",
    "                sys.stdout.flush()\n",
    "                \n",
    "            cell_counter += 1\n",
    "                \n",
    "            density.append(cell.data[0])\n",
    "\n",
    "            #temp.append(cell.data[3])\n",
    "\n",
    "            grid.append(0)\n",
    "\n",
    "        else:\n",
    "            grid.append(1)\n",
    "            \n",
    "            for i in range(8):\n",
    "                self.writeOcTree_radmc(cell.branches[i], grid, density)"
   ]
  },
  {
   "cell_type": "markdown",
   "id": "a729306b",
   "metadata": {},
   "source": [
    "# LOAD RAMSES DATA"
   ]
  },
  {
   "cell_type": "code",
   "execution_count": 13,
   "id": "fc184207",
   "metadata": {},
   "outputs": [],
   "source": [
    "datapath = \"/data/pebbles/scratch/\"\n",
    "outnum = str(13).zfill(5)\n",
    "input_file = datapath+'output_'+outnum\n",
    "sink_filename = datapath+'output_'+outnum+'/sink_'+outnum+'.csv'\n",
    "\n",
    "output_path = '/nfs/pic.es/user/s/sgavino/enygma/examples/maxime_model/radmc3d/output_'+str(outnum)+'/'"
   ]
  },
  {
   "cell_type": "code",
   "execution_count": 14,
   "id": "51e7c627",
   "metadata": {},
   "outputs": [],
   "source": [
    "CLR_LINE =   \"                                                      \\r\""
   ]
  },
  {
   "cell_type": "code",
   "execution_count": 15,
   "id": "d9a9c148",
   "metadata": {},
   "outputs": [],
   "source": [
    "global cell_counter\n",
    "cell_counter = 0"
   ]
  },
  {
   "cell_type": "code",
   "execution_count": 16,
   "id": "30fb9271",
   "metadata": {},
   "outputs": [
    {
     "name": "stdout",
     "output_type": "stream",
     "text": [
      "Ramses input:     /data/pebbles/scratch/output_00013\n",
      "Output for RADMC: amr_grid.inp, dust_density.inp\n",
      "\n",
      "Loading RAMSES data from: \n",
      " /data/pebbles/scratch/output_00013\n"
     ]
    }
   ],
   "source": [
    "print (\"Ramses input:    \", input_file)\n",
    "print (\"Output for RADMC: amr_grid.inp, dust_density.inp\")\n",
    "print (\"\")\n",
    "print (\"Loading RAMSES data from: \\n\", input_file)"
   ]
  },
  {
   "cell_type": "code",
   "execution_count": 17,
   "id": "251215a3",
   "metadata": {},
   "outputs": [],
   "source": [
    "outstr = \"output_\"\n",
    "outloc = input_file.rfind(outstr) #number of characters before /output_\n",
    "folder = input_file[:outloc] #just the path to output_/\n",
    "numloc = outloc+len(outstr) #total number of characters in output_ path"
   ]
  },
  {
   "cell_type": "code",
   "execution_count": 18,
   "id": "dffbec47",
   "metadata": {},
   "outputs": [
    {
     "data": {
      "text/plain": [
       "'/data/pebbles/scratch/output_00013'"
      ]
     },
     "execution_count": 18,
     "metadata": {},
     "output_type": "execute_result"
    }
   ],
   "source": [
    "num = int(input_file[numloc:numloc+5])\n",
    "input_file"
   ]
  },
  {
   "cell_type": "code",
   "execution_count": 19,
   "id": "8c97aa11",
   "metadata": {},
   "outputs": [
    {
     "name": "stdout",
     "output_type": "stream",
     "text": [
      "  -> Found 3 namelist files (*.nml)\n",
      "  -> Checking endianness for output #13...\n",
      "  -> Computing hilbert minimal domain description for output #13...\n"
     ]
    }
   ],
   "source": [
    "snap = pymses.RamsesOutput(folder,num)"
   ]
  },
  {
   "cell_type": "code",
   "execution_count": 20,
   "id": "2efe2603",
   "metadata": {},
   "outputs": [
    {
     "name": "stdout",
     "output_type": "stream",
     "text": [
      "AmrDataFileFieldDescriptor : [RamsesAmrScalar(name = \"rho\", ivar = 0, file = \"hydro\"),\n",
      "RamsesAmrScalar(name = \"dustratio1\", ivar = 11, file = \"hydro\"),\n",
      "RamsesAmrScalar(name = \"dustratio2\", ivar = 12, file = \"hydro\"),\n",
      "RamsesAmrScalar(name = \"dustratio3\", ivar = 13, file = \"hydro\"),\n",
      "RamsesAmrScalar(name = \"dustratio4\", ivar = 14, file = \"hydro\"),\n",
      "RamsesAmrScalar(name = \"dustratio5\", ivar = 15, file = \"hydro\"),\n",
      "RamsesAmrScalar(name = \"dustratio6\", ivar = 16, file = \"hydro\"),\n",
      "RamsesAmrScalar(name = \"dustratio7\", ivar = 17, file = \"hydro\"),\n",
      "RamsesAmrScalar(name = \"dustratio8\", ivar = 18, file = \"hydro\"),\n",
      "RamsesAmrScalar(name = \"dustratio9\", ivar = 19, file = \"hydro\"),\n",
      "RamsesAmrScalar(name = \"dustratio10\", ivar = 20, file = \"hydro\"),\n",
      "RamsesAmrVector(name = \"vel\", ivars = [1, 2, 3], file = \"hydro\"),\n",
      "RamsesAmrVector(name = \"Bl\", ivars = [4, 5, 6], file = \"hydro\"),\n",
      "RamsesAmrVector(name = \"Br\", ivars = [7, 8, 9], file = \"hydro\"),\n",
      "RamsesAmrScalar(name = \"P\", ivar = 10, file = \"hydro\"),\n",
      "RamsesAmrMultiValued(name = \"Xi\", ivars = [11, ..., 17], file = \"hydro\"),\n",
      "RamsesAmrScalar(name = \"phi\", ivar = 0, file = \"grav\"),\n",
      "RamsesAmrVector(name = \"g\", ivars = [1, 2, 3], file = \"grav\")]\n"
     ]
    }
   ],
   "source": [
    "snap.amr_fields()"
   ]
  },
  {
   "cell_type": "code",
   "execution_count": 21,
   "id": "22ba043c",
   "metadata": {},
   "outputs": [],
   "source": [
    "amr = snap.amr_source([\"rho\",\"dustratio1\", \"dustratio2\", \"dustratio3\", \"dustratio4\", \"dustratio5\", \"dustratio6\", \"dustratio7\", \"dustratio8\", \"dustratio9\", \"dustratio10\"])"
   ]
  },
  {
   "cell_type": "code",
   "execution_count": 22,
   "id": "26ddd516",
   "metadata": {},
   "outputs": [
    {
     "data": {
      "text/plain": [
       "3"
      ]
     },
     "execution_count": 22,
     "metadata": {},
     "output_type": "execute_result"
    }
   ],
   "source": [
    "cell_source = CellsToPoints(amr)\n",
    "cell_source.ndim"
   ]
  },
  {
   "cell_type": "code",
   "execution_count": null,
   "id": "7b6e9b22",
   "metadata": {},
   "outputs": [],
   "source": []
  },
  {
   "cell_type": "code",
   "execution_count": 23,
   "id": "9aec1f67",
   "metadata": {},
   "outputs": [
    {
     "name": "stdout",
     "output_type": "stream",
     "text": [
      "Reading amr data  : /data/pebbles/scratch/output_00013/amr_00013.out00001\n",
      "Reading hydro     : /data/pebbles/scratch/output_00013/hydro_00013.out00001\n",
      "Reading amr data  : /data/pebbles/scratch/output_00013/amr_00013.out00002\n",
      "Reading hydro     : /data/pebbles/scratch/output_00013/hydro_00013.out00002\n",
      "Reading amr data  : /data/pebbles/scratch/output_00013/amr_00013.out00003\n",
      "Reading hydro     : /data/pebbles/scratch/output_00013/hydro_00013.out00003\n",
      "Reading amr data  : /data/pebbles/scratch/output_00013/amr_00013.out00004\n",
      "Reading hydro     : /data/pebbles/scratch/output_00013/hydro_00013.out00004\n",
      "Reading amr data  : /data/pebbles/scratch/output_00013/amr_00013.out00005\n",
      "Reading hydro     : /data/pebbles/scratch/output_00013/hydro_00013.out00005\n"
     ]
    },
    {
     "name": "stdout",
     "output_type": "stream",
     "text": [
      "Reading amr data  : /data/pebbles/scratch/output_00013/amr_00013.out00006\n",
      "Reading hydro     : /data/pebbles/scratch/output_00013/hydro_00013.out00006\n",
      "Reading amr data  : /data/pebbles/scratch/output_00013/amr_00013.out00007\n",
      "Reading hydro     : /data/pebbles/scratch/output_00013/hydro_00013.out00007\n",
      "Reading amr data  : /data/pebbles/scratch/output_00013/amr_00013.out00008\n",
      "Reading hydro     : /data/pebbles/scratch/output_00013/hydro_00013.out00008\n",
      "Reading amr data  : /data/pebbles/scratch/output_00013/amr_00013.out00009\n",
      "Reading hydro     : /data/pebbles/scratch/output_00013/hydro_00013.out00009\n",
      "Reading amr data  : /data/pebbles/scratch/output_00013/amr_00013.out00010\n",
      "Reading hydro     : /data/pebbles/scratch/output_00013/hydro_00013.out00010\n",
      "Reading amr data  : /data/pebbles/scratch/output_00013/amr_00013.out00011\n",
      "Reading hydro     : /data/pebbles/scratch/output_00013/hydro_00013.out00011\n",
      "Reading amr data  : /data/pebbles/scratch/output_00013/amr_00013.out00012\n",
      "Reading hydro     : /data/pebbles/scratch/output_00013/hydro_00013.out00012\n",
      "Reading amr data  : /data/pebbles/scratch/output_00013/amr_00013.out00013\n",
      "Reading hydro     : /data/pebbles/scratch/output_00013/hydro_00013.out00013\n",
      "Reading amr data  : /data/pebbles/scratch/output_00013/amr_00013.out00014\n",
      "Reading hydro     : /data/pebbles/scratch/output_00013/hydro_00013.out00014\n",
      "Reading amr data  : /data/pebbles/scratch/output_00013/amr_00013.out00015\n",
      "Reading hydro     : /data/pebbles/scratch/output_00013/hydro_00013.out00015\n",
      "Reading amr data  : /data/pebbles/scratch/output_00013/amr_00013.out00016\n",
      "Reading hydro     : /data/pebbles/scratch/output_00013/hydro_00013.out00016\n",
      "Reading amr data  : /data/pebbles/scratch/output_00013/amr_00013.out00017\n",
      "Reading hydro     : /data/pebbles/scratch/output_00013/hydro_00013.out00017\n",
      "Reading amr data  : /data/pebbles/scratch/output_00013/amr_00013.out00018\n",
      "Reading hydro     : /data/pebbles/scratch/output_00013/hydro_00013.out00018\n",
      "Reading amr data  : /data/pebbles/scratch/output_00013/amr_00013.out00019\n",
      "Reading hydro     : /data/pebbles/scratch/output_00013/hydro_00013.out00019\n",
      "Reading amr data  : /data/pebbles/scratch/output_00013/amr_00013.out00020\n",
      "Reading hydro     : /data/pebbles/scratch/output_00013/hydro_00013.out00020\n",
      "Reading amr data  : /data/pebbles/scratch/output_00013/amr_00013.out00021\n",
      "Reading hydro     : /data/pebbles/scratch/output_00013/hydro_00013.out00021\n",
      "Reading amr data  : /data/pebbles/scratch/output_00013/amr_00013.out00022\n",
      "Reading hydro     : /data/pebbles/scratch/output_00013/hydro_00013.out00022\n",
      "Reading amr data  : /data/pebbles/scratch/output_00013/amr_00013.out00023\n",
      "Reading hydro     : /data/pebbles/scratch/output_00013/hydro_00013.out00023\n",
      "Reading amr data  : /data/pebbles/scratch/output_00013/amr_00013.out00024\n",
      "Reading hydro     : /data/pebbles/scratch/output_00013/hydro_00013.out00024\n",
      "Reading amr data  : /data/pebbles/scratch/output_00013/amr_00013.out00025\n",
      "Reading hydro     : /data/pebbles/scratch/output_00013/hydro_00013.out00025\n",
      "Reading amr data  : /data/pebbles/scratch/output_00013/amr_00013.out00026\n",
      "Reading hydro     : /data/pebbles/scratch/output_00013/hydro_00013.out00026\n",
      "Reading amr data  : /data/pebbles/scratch/output_00013/amr_00013.out00027\n",
      "Reading hydro     : /data/pebbles/scratch/output_00013/hydro_00013.out00027\n",
      "Reading amr data  : /data/pebbles/scratch/output_00013/amr_00013.out00028\n",
      "Reading hydro     : /data/pebbles/scratch/output_00013/hydro_00013.out00028\n",
      "Reading amr data  : /data/pebbles/scratch/output_00013/amr_00013.out00029\n",
      "Reading hydro     : /data/pebbles/scratch/output_00013/hydro_00013.out00029\n",
      "Reading amr data  : /data/pebbles/scratch/output_00013/amr_00013.out00030\n",
      "Reading hydro     : /data/pebbles/scratch/output_00013/hydro_00013.out00030\n",
      "Reading amr data  : /data/pebbles/scratch/output_00013/amr_00013.out00031\n",
      "Reading hydro     : /data/pebbles/scratch/output_00013/hydro_00013.out00031\n",
      "Reading amr data  : /data/pebbles/scratch/output_00013/amr_00013.out00032\n",
      "Reading hydro     : /data/pebbles/scratch/output_00013/hydro_00013.out00032\n",
      "Reading amr data  : /data/pebbles/scratch/output_00013/amr_00013.out00033\n",
      "Reading hydro     : /data/pebbles/scratch/output_00013/hydro_00013.out00033\n",
      "Reading amr data  : /data/pebbles/scratch/output_00013/amr_00013.out00034\n",
      "Reading hydro     : /data/pebbles/scratch/output_00013/hydro_00013.out00034\n",
      "Reading amr data  : /data/pebbles/scratch/output_00013/amr_00013.out00035\n",
      "Reading hydro     : /data/pebbles/scratch/output_00013/hydro_00013.out00035\n",
      "Reading amr data  : /data/pebbles/scratch/output_00013/amr_00013.out00036\n",
      "Reading hydro     : /data/pebbles/scratch/output_00013/hydro_00013.out00036\n",
      "Reading amr data  : /data/pebbles/scratch/output_00013/amr_00013.out00037\n",
      "Reading hydro     : /data/pebbles/scratch/output_00013/hydro_00013.out00037\n",
      "Reading amr data  : /data/pebbles/scratch/output_00013/amr_00013.out00038\n",
      "Reading hydro     : /data/pebbles/scratch/output_00013/hydro_00013.out00038\n",
      "Reading amr data  : /data/pebbles/scratch/output_00013/amr_00013.out00039\n",
      "Reading hydro     : /data/pebbles/scratch/output_00013/hydro_00013.out00039\n",
      "Reading amr data  : /data/pebbles/scratch/output_00013/amr_00013.out00040\n",
      "Reading hydro     : /data/pebbles/scratch/output_00013/hydro_00013.out00040\n",
      "Reading amr data  : /data/pebbles/scratch/output_00013/amr_00013.out00041\n",
      "Reading hydro     : /data/pebbles/scratch/output_00013/hydro_00013.out00041\n",
      "Reading amr data  : /data/pebbles/scratch/output_00013/amr_00013.out00042\n",
      "Reading hydro     : /data/pebbles/scratch/output_00013/hydro_00013.out00042\n",
      "Reading amr data  : /data/pebbles/scratch/output_00013/amr_00013.out00043\n",
      "Reading hydro     : /data/pebbles/scratch/output_00013/hydro_00013.out00043\n",
      "Reading amr data  : /data/pebbles/scratch/output_00013/amr_00013.out00044\n",
      "Reading hydro     : /data/pebbles/scratch/output_00013/hydro_00013.out00044\n",
      "Reading amr data  : /data/pebbles/scratch/output_00013/amr_00013.out00045\n",
      "Reading hydro     : /data/pebbles/scratch/output_00013/hydro_00013.out00045\n",
      "Reading amr data  : /data/pebbles/scratch/output_00013/amr_00013.out00046\n",
      "Reading hydro     : /data/pebbles/scratch/output_00013/hydro_00013.out00046\n",
      "Reading amr data  : /data/pebbles/scratch/output_00013/amr_00013.out00047\n",
      "Reading hydro     : /data/pebbles/scratch/output_00013/hydro_00013.out00047\n",
      "Reading amr data  : /data/pebbles/scratch/output_00013/amr_00013.out00048\n",
      "Reading hydro     : /data/pebbles/scratch/output_00013/hydro_00013.out00048\n",
      "Reading amr data  : /data/pebbles/scratch/output_00013/amr_00013.out00049\n",
      "Reading hydro     : /data/pebbles/scratch/output_00013/hydro_00013.out00049\n",
      "Reading amr data  : /data/pebbles/scratch/output_00013/amr_00013.out00050\n",
      "Reading hydro     : /data/pebbles/scratch/output_00013/hydro_00013.out00050\n",
      "Reading amr data  : /data/pebbles/scratch/output_00013/amr_00013.out00051\n",
      "Reading hydro     : /data/pebbles/scratch/output_00013/hydro_00013.out00051\n",
      "Reading amr data  : /data/pebbles/scratch/output_00013/amr_00013.out00052\n",
      "Reading hydro     : /data/pebbles/scratch/output_00013/hydro_00013.out00052\n",
      "Reading amr data  : /data/pebbles/scratch/output_00013/amr_00013.out00053\n",
      "Reading hydro     : /data/pebbles/scratch/output_00013/hydro_00013.out00053\n",
      "Reading amr data  : /data/pebbles/scratch/output_00013/amr_00013.out00054\n",
      "Reading hydro     : /data/pebbles/scratch/output_00013/hydro_00013.out00054\n",
      "Reading amr data  : /data/pebbles/scratch/output_00013/amr_00013.out00055\n",
      "Reading hydro     : /data/pebbles/scratch/output_00013/hydro_00013.out00055\n",
      "Reading amr data  : /data/pebbles/scratch/output_00013/amr_00013.out00056\n",
      "Reading hydro     : /data/pebbles/scratch/output_00013/hydro_00013.out00056\n",
      "Reading amr data  : /data/pebbles/scratch/output_00013/amr_00013.out00057\n",
      "Reading hydro     : /data/pebbles/scratch/output_00013/hydro_00013.out00057\n",
      "Reading amr data  : /data/pebbles/scratch/output_00013/amr_00013.out00058\n",
      "Reading hydro     : /data/pebbles/scratch/output_00013/hydro_00013.out00058\n",
      "Reading amr data  : /data/pebbles/scratch/output_00013/amr_00013.out00059\n",
      "Reading hydro     : /data/pebbles/scratch/output_00013/hydro_00013.out00059\n",
      "Reading amr data  : /data/pebbles/scratch/output_00013/amr_00013.out00060\n",
      "Reading hydro     : /data/pebbles/scratch/output_00013/hydro_00013.out00060\n",
      "Reading amr data  : /data/pebbles/scratch/output_00013/amr_00013.out00061\n",
      "Reading hydro     : /data/pebbles/scratch/output_00013/hydro_00013.out00061\n",
      "Reading amr data  : /data/pebbles/scratch/output_00013/amr_00013.out00062\n",
      "Reading hydro     : /data/pebbles/scratch/output_00013/hydro_00013.out00062\n",
      "Reading amr data  : /data/pebbles/scratch/output_00013/amr_00013.out00063\n",
      "Reading hydro     : /data/pebbles/scratch/output_00013/hydro_00013.out00063\n",
      "Reading amr data  : /data/pebbles/scratch/output_00013/amr_00013.out00064\n",
      "Reading hydro     : /data/pebbles/scratch/output_00013/hydro_00013.out00064\n",
      "Reading amr data  : /data/pebbles/scratch/output_00013/amr_00013.out00065\n",
      "Reading hydro     : /data/pebbles/scratch/output_00013/hydro_00013.out00065\n",
      "Reading amr data  : /data/pebbles/scratch/output_00013/amr_00013.out00066\n",
      "Reading hydro     : /data/pebbles/scratch/output_00013/hydro_00013.out00066\n",
      "Reading amr data  : /data/pebbles/scratch/output_00013/amr_00013.out00067\n",
      "Reading hydro     : /data/pebbles/scratch/output_00013/hydro_00013.out00067\n",
      "Reading amr data  : /data/pebbles/scratch/output_00013/amr_00013.out00068\n",
      "Reading hydro     : /data/pebbles/scratch/output_00013/hydro_00013.out00068\n",
      "Reading amr data  : /data/pebbles/scratch/output_00013/amr_00013.out00069\n",
      "Reading hydro     : /data/pebbles/scratch/output_00013/hydro_00013.out00069\n",
      "Reading amr data  : /data/pebbles/scratch/output_00013/amr_00013.out00070\n",
      "Reading hydro     : /data/pebbles/scratch/output_00013/hydro_00013.out00070\n",
      "Reading amr data  : /data/pebbles/scratch/output_00013/amr_00013.out00071\n",
      "Reading hydro     : /data/pebbles/scratch/output_00013/hydro_00013.out00071\n",
      "Reading amr data  : /data/pebbles/scratch/output_00013/amr_00013.out00072\n",
      "Reading hydro     : /data/pebbles/scratch/output_00013/hydro_00013.out00072\n",
      "Reading amr data  : /data/pebbles/scratch/output_00013/amr_00013.out00073\n",
      "Reading hydro     : /data/pebbles/scratch/output_00013/hydro_00013.out00073\n",
      "Reading amr data  : /data/pebbles/scratch/output_00013/amr_00013.out00074\n",
      "Reading hydro     : /data/pebbles/scratch/output_00013/hydro_00013.out00074\n",
      "Reading amr data  : /data/pebbles/scratch/output_00013/amr_00013.out00075\n",
      "Reading hydro     : /data/pebbles/scratch/output_00013/hydro_00013.out00075\n",
      "Reading amr data  : /data/pebbles/scratch/output_00013/amr_00013.out00076\n",
      "Reading hydro     : /data/pebbles/scratch/output_00013/hydro_00013.out00076\n",
      "Reading amr data  : /data/pebbles/scratch/output_00013/amr_00013.out00077\n",
      "Reading hydro     : /data/pebbles/scratch/output_00013/hydro_00013.out00077\n",
      "Reading amr data  : /data/pebbles/scratch/output_00013/amr_00013.out00078\n",
      "Reading hydro     : /data/pebbles/scratch/output_00013/hydro_00013.out00078\n",
      "Reading amr data  : /data/pebbles/scratch/output_00013/amr_00013.out00079\n",
      "Reading hydro     : /data/pebbles/scratch/output_00013/hydro_00013.out00079\n",
      "Reading amr data  : /data/pebbles/scratch/output_00013/amr_00013.out00080\n",
      "Reading hydro     : /data/pebbles/scratch/output_00013/hydro_00013.out00080\n",
      "Reading amr data  : /data/pebbles/scratch/output_00013/amr_00013.out00081\n",
      "Reading hydro     : /data/pebbles/scratch/output_00013/hydro_00013.out00081\n",
      "Reading amr data  : /data/pebbles/scratch/output_00013/amr_00013.out00082\n",
      "Reading hydro     : /data/pebbles/scratch/output_00013/hydro_00013.out00082\n",
      "Reading amr data  : /data/pebbles/scratch/output_00013/amr_00013.out00083\n",
      "Reading hydro     : /data/pebbles/scratch/output_00013/hydro_00013.out00083\n",
      "Reading amr data  : /data/pebbles/scratch/output_00013/amr_00013.out00084\n",
      "Reading hydro     : /data/pebbles/scratch/output_00013/hydro_00013.out00084\n",
      "Reading amr data  : /data/pebbles/scratch/output_00013/amr_00013.out00085\n",
      "Reading hydro     : /data/pebbles/scratch/output_00013/hydro_00013.out00085\n",
      "Reading amr data  : /data/pebbles/scratch/output_00013/amr_00013.out00086\n",
      "Reading hydro     : /data/pebbles/scratch/output_00013/hydro_00013.out00086\n",
      "Reading amr data  : /data/pebbles/scratch/output_00013/amr_00013.out00087\n",
      "Reading hydro     : /data/pebbles/scratch/output_00013/hydro_00013.out00087\n",
      "Reading amr data  : /data/pebbles/scratch/output_00013/amr_00013.out00088\n",
      "Reading hydro     : /data/pebbles/scratch/output_00013/hydro_00013.out00088\n",
      "Reading amr data  : /data/pebbles/scratch/output_00013/amr_00013.out00089\n",
      "Reading hydro     : /data/pebbles/scratch/output_00013/hydro_00013.out00089\n",
      "Reading amr data  : /data/pebbles/scratch/output_00013/amr_00013.out00090\n",
      "Reading hydro     : /data/pebbles/scratch/output_00013/hydro_00013.out00090\n",
      "Reading amr data  : /data/pebbles/scratch/output_00013/amr_00013.out00091\n",
      "Reading hydro     : /data/pebbles/scratch/output_00013/hydro_00013.out00091\n",
      "Reading amr data  : /data/pebbles/scratch/output_00013/amr_00013.out00092\n",
      "Reading hydro     : /data/pebbles/scratch/output_00013/hydro_00013.out00092\n",
      "Reading amr data  : /data/pebbles/scratch/output_00013/amr_00013.out00093\n",
      "Reading hydro     : /data/pebbles/scratch/output_00013/hydro_00013.out00093\n",
      "Reading amr data  : /data/pebbles/scratch/output_00013/amr_00013.out00094\n",
      "Reading hydro     : /data/pebbles/scratch/output_00013/hydro_00013.out00094\n",
      "Reading amr data  : /data/pebbles/scratch/output_00013/amr_00013.out00095\n",
      "Reading hydro     : /data/pebbles/scratch/output_00013/hydro_00013.out00095\n",
      "Reading amr data  : /data/pebbles/scratch/output_00013/amr_00013.out00096\n",
      "Reading hydro     : /data/pebbles/scratch/output_00013/hydro_00013.out00096\n",
      "Reading amr data  : /data/pebbles/scratch/output_00013/amr_00013.out00097\n",
      "Reading hydro     : /data/pebbles/scratch/output_00013/hydro_00013.out00097\n",
      "Reading amr data  : /data/pebbles/scratch/output_00013/amr_00013.out00098\n",
      "Reading hydro     : /data/pebbles/scratch/output_00013/hydro_00013.out00098\n",
      "Reading amr data  : /data/pebbles/scratch/output_00013/amr_00013.out00099\n",
      "Reading hydro     : /data/pebbles/scratch/output_00013/hydro_00013.out00099\n",
      "Reading amr data  : /data/pebbles/scratch/output_00013/amr_00013.out00100\n",
      "Reading hydro     : /data/pebbles/scratch/output_00013/hydro_00013.out00100\n",
      "Reading amr data  : /data/pebbles/scratch/output_00013/amr_00013.out00101\n",
      "Reading hydro     : /data/pebbles/scratch/output_00013/hydro_00013.out00101\n",
      "Reading amr data  : /data/pebbles/scratch/output_00013/amr_00013.out00102\n",
      "Reading hydro     : /data/pebbles/scratch/output_00013/hydro_00013.out00102\n",
      "Reading amr data  : /data/pebbles/scratch/output_00013/amr_00013.out00103\n",
      "Reading hydro     : /data/pebbles/scratch/output_00013/hydro_00013.out00103\n",
      "Reading amr data  : /data/pebbles/scratch/output_00013/amr_00013.out00104\n",
      "Reading hydro     : /data/pebbles/scratch/output_00013/hydro_00013.out00104\n",
      "Reading amr data  : /data/pebbles/scratch/output_00013/amr_00013.out00105\n",
      "Reading hydro     : /data/pebbles/scratch/output_00013/hydro_00013.out00105\n",
      "Reading amr data  : /data/pebbles/scratch/output_00013/amr_00013.out00106\n",
      "Reading hydro     : /data/pebbles/scratch/output_00013/hydro_00013.out00106\n",
      "Reading amr data  : /data/pebbles/scratch/output_00013/amr_00013.out00107\n",
      "Reading hydro     : /data/pebbles/scratch/output_00013/hydro_00013.out00107\n",
      "Reading amr data  : /data/pebbles/scratch/output_00013/amr_00013.out00108\n",
      "Reading hydro     : /data/pebbles/scratch/output_00013/hydro_00013.out00108\n",
      "Reading amr data  : /data/pebbles/scratch/output_00013/amr_00013.out00109\n",
      "Reading hydro     : /data/pebbles/scratch/output_00013/hydro_00013.out00109\n",
      "Reading amr data  : /data/pebbles/scratch/output_00013/amr_00013.out00110\n",
      "Reading hydro     : /data/pebbles/scratch/output_00013/hydro_00013.out00110\n",
      "Reading amr data  : /data/pebbles/scratch/output_00013/amr_00013.out00111\n",
      "Reading hydro     : /data/pebbles/scratch/output_00013/hydro_00013.out00111\n",
      "Reading amr data  : /data/pebbles/scratch/output_00013/amr_00013.out00112\n",
      "Reading hydro     : /data/pebbles/scratch/output_00013/hydro_00013.out00112\n",
      "Reading amr data  : /data/pebbles/scratch/output_00013/amr_00013.out00113\n",
      "Reading hydro     : /data/pebbles/scratch/output_00013/hydro_00013.out00113\n",
      "Reading amr data  : /data/pebbles/scratch/output_00013/amr_00013.out00114\n",
      "Reading hydro     : /data/pebbles/scratch/output_00013/hydro_00013.out00114\n",
      "Reading amr data  : /data/pebbles/scratch/output_00013/amr_00013.out00115\n",
      "Reading hydro     : /data/pebbles/scratch/output_00013/hydro_00013.out00115\n",
      "Reading amr data  : /data/pebbles/scratch/output_00013/amr_00013.out00116\n",
      "Reading hydro     : /data/pebbles/scratch/output_00013/hydro_00013.out00116\n",
      "Reading amr data  : /data/pebbles/scratch/output_00013/amr_00013.out00117\n",
      "Reading hydro     : /data/pebbles/scratch/output_00013/hydro_00013.out00117\n",
      "Reading amr data  : /data/pebbles/scratch/output_00013/amr_00013.out00118\n",
      "Reading hydro     : /data/pebbles/scratch/output_00013/hydro_00013.out00118\n",
      "Reading amr data  : /data/pebbles/scratch/output_00013/amr_00013.out00119\n",
      "Reading hydro     : /data/pebbles/scratch/output_00013/hydro_00013.out00119\n",
      "Reading amr data  : /data/pebbles/scratch/output_00013/amr_00013.out00120\n",
      "Reading hydro     : /data/pebbles/scratch/output_00013/hydro_00013.out00120\n",
      "Reading amr data  : /data/pebbles/scratch/output_00013/amr_00013.out00121\n",
      "Reading hydro     : /data/pebbles/scratch/output_00013/hydro_00013.out00121\n",
      "Reading amr data  : /data/pebbles/scratch/output_00013/amr_00013.out00122\n",
      "Reading hydro     : /data/pebbles/scratch/output_00013/hydro_00013.out00122\n",
      "Reading amr data  : /data/pebbles/scratch/output_00013/amr_00013.out00123\n",
      "Reading hydro     : /data/pebbles/scratch/output_00013/hydro_00013.out00123\n",
      "Reading amr data  : /data/pebbles/scratch/output_00013/amr_00013.out00124\n",
      "Reading hydro     : /data/pebbles/scratch/output_00013/hydro_00013.out00124\n",
      "Reading amr data  : /data/pebbles/scratch/output_00013/amr_00013.out00125\n",
      "Reading hydro     : /data/pebbles/scratch/output_00013/hydro_00013.out00125\n",
      "Reading amr data  : /data/pebbles/scratch/output_00013/amr_00013.out00126\n",
      "Reading hydro     : /data/pebbles/scratch/output_00013/hydro_00013.out00126\n",
      "Reading amr data  : /data/pebbles/scratch/output_00013/amr_00013.out00127\n",
      "Reading hydro     : /data/pebbles/scratch/output_00013/hydro_00013.out00127\n",
      "Reading amr data  : /data/pebbles/scratch/output_00013/amr_00013.out00128\n",
      "Reading hydro     : /data/pebbles/scratch/output_00013/hydro_00013.out00128\n",
      "Read and filter time : 27.06 s\n"
     ]
    }
   ],
   "source": [
    "cells = cell_source.flatten()"
   ]
  },
  {
   "cell_type": "code",
   "execution_count": 24,
   "id": "aa9b1eaa-e014-4118-8dec-93c69f222445",
   "metadata": {},
   "outputs": [],
   "source": [
    "# Now make the output dictionary\n",
    "# Spatial information\n",
    "output = {}"
   ]
  },
  {
   "cell_type": "code",
   "execution_count": 25,
   "id": "d1f535a4-03b0-4806-bd45-79bafff33793",
   "metadata": {},
   "outputs": [],
   "source": [
    "# Cell lengths\n",
    "unit_l = snap.info[\"unit_length\"].express(C.m)\n",
    "output[\"dx\"] = cells.get_sizes()*unit_l"
   ]
  },
  {
   "cell_type": "code",
   "execution_count": 26,
   "id": "13ab09b5",
   "metadata": {},
   "outputs": [
    {
     "data": {
      "text/plain": [
       "5209956521701593.0"
      ]
     },
     "execution_count": 26,
     "metadata": {},
     "output_type": "execute_result"
    }
   ],
   "source": [
    "unit_l"
   ]
  },
  {
   "cell_type": "code",
   "execution_count": 27,
   "id": "5ff585a3",
   "metadata": {},
   "outputs": [],
   "source": [
    "# max. number of cells\n",
    "nr_of_cells = len(output[\"dx\"])"
   ]
  },
  {
   "cell_type": "code",
   "execution_count": 28,
   "id": "73d0c08b",
   "metadata": {},
   "outputs": [
    {
     "data": {
      "text/plain": [
       "array([0.015625  , 0.046875  , 0.015625  , ..., 0.50683594, 0.50488281,\n",
       "       0.50683594])"
      ]
     },
     "execution_count": 28,
     "metadata": {},
     "output_type": "execute_result"
    }
   ],
   "source": [
    "cells.points[:,0]"
   ]
  },
  {
   "cell_type": "code",
   "execution_count": 29,
   "id": "63eb6d6c",
   "metadata": {},
   "outputs": [],
   "source": [
    "# Original cell positions (from 0 to 1) converted into uint length)\n",
    "output[\"x\"] = cells.points[:,0]*unit_l\n",
    "output[\"y\"] = cells.points[:,1]*unit_l\n",
    "output[\"z\"] = cells.points[:,2]*unit_l"
   ]
  },
  {
   "cell_type": "code",
   "execution_count": 30,
   "id": "d6944229",
   "metadata": {},
   "outputs": [
    {
     "name": "stdout",
     "output_type": "stream",
     "text": [
      "\n",
      "x min max 81405570651587.39 5128550951050006.0\n"
     ]
    }
   ],
   "source": [
    "print(\"\\nx min max\", output[\"x\"].min(), output[\"x\"].max())"
   ]
  },
  {
   "cell_type": "code",
   "execution_count": 31,
   "id": "9d7bd244",
   "metadata": {},
   "outputs": [],
   "source": [
    "# level of each cell\n",
    "output[\"level\"]=np.log2(unit_l/output[\"dx\"])"
   ]
  },
  {
   "cell_type": "code",
   "execution_count": null,
   "id": "3a9b3d22",
   "metadata": {},
   "outputs": [],
   "source": []
  },
  {
   "cell_type": "code",
   "execution_count": null,
   "metadata": {},
   "outputs": [],
   "source": []
  },
  {
   "cell_type": "code",
   "execution_count": 32,
   "id": "5a810a8e",
   "metadata": {},
   "outputs": [
    {
     "name": "stdout",
     "output_type": "stream",
     "text": [
      "dens min, max 161.4327193254024 556497762028.974\n"
     ]
    }
   ],
   "source": [
    "# Density in cm^-3\n",
    "output[\"dens\"]  = cells[\"rho\"]  # m-3     #*snap.info[\"unit_density\"].express(C.g_cc)\n",
    "print(\"dens min, max\", output[\"dens\"].min(), output[\"dens\"].max())"
   ]
  },
  {
   "cell_type": "code",
   "execution_count": 33,
   "id": "db376b62",
   "metadata": {},
   "outputs": [],
   "source": [
    "output[\"dustratio1\"]  = cells[\"dustratio1\"]  # m-3     #*snap.info[\"unit_density\"].express(C.g_cc)\n",
    "output[\"dustratio2\"]  = cells[\"dustratio2\"]  # m-3     #*snap.info[\"unit_density\"].express(C.g_cc)\n",
    "output[\"dustratio3\"]  = cells[\"dustratio3\"]  # m-3     #*snap.info[\"unit_density\"].express(C.g_cc)\n",
    "output[\"dustratio4\"]  = cells[\"dustratio4\"]  # m-3     #*snap.info[\"unit_density\"].express(C.g_cc)\n",
    "output[\"dustratio5\"]  = cells[\"dustratio5\"]  # m-3     #*snap.info[\"unit_density\"].express(C.g_cc)\n",
    "output[\"dustratio6\"]  = cells[\"dustratio6\"]  # m-3     #*snap.info[\"unit_density\"].express(C.g_cc)\n",
    "output[\"dustratio7\"]  = cells[\"dustratio7\"]  # m-3     #*snap.info[\"unit_density\"].express(C.g_cc)\n",
    "output[\"dustratio8\"]  = cells[\"dustratio8\"]  # m-3     #*snap.info[\"unit_density\"].express(C.g_cc)\n",
    "output[\"dustratio9\"]  = cells[\"dustratio9\"]  # m-3     #*snap.info[\"unit_density\"].express(C.g_cc)\n",
    "output[\"dustratio10\"]  = cells[\"dustratio10\"]  # m-3     #*snap.info[\"unit_density\"].express(C.g_cc)"
   ]
  },
  {
   "cell_type": "code",
   "execution_count": 34,
   "id": "64640dc1",
   "metadata": {},
   "outputs": [
    {
     "data": {
      "text/plain": [
       "array([2.28861027e-10, 1.88625503e-10, 4.10051218e-10, ...,\n",
       "       4.10552992e-10, 3.21764656e-10, 3.99476305e-10])"
      ]
     },
     "execution_count": 34,
     "metadata": {},
     "output_type": "execute_result"
    }
   ],
   "source": [
    "output[\"dustratio10\"]"
   ]
  },
  {
   "cell_type": "code",
   "execution_count": 35,
   "id": "cbc4b9b4",
   "metadata": {},
   "outputs": [
    {
     "data": {
      "text/plain": [
       "array([2.28861027e-10, 1.88625503e-10, 4.10051218e-10, ...,\n",
       "       4.10552992e-10, 3.21764656e-10, 3.99476305e-10])"
      ]
     },
     "execution_count": 35,
     "metadata": {},
     "output_type": "execute_result"
    }
   ],
   "source": [
    "output[\"dustratio10\"]"
   ]
  },
  {
   "cell_type": "code",
   "execution_count": 36,
   "id": "bb353ff9",
   "metadata": {},
   "outputs": [
    {
     "name": "stdout",
     "output_type": "stream",
     "text": [
      "*************************************************\n",
      "WORKING WITH mu_gas =  2.31\n"
     ]
    }
   ],
   "source": [
    "# Gas temperature in K\n",
    "print(\"*************************************************\")\n",
    "#============================================\n",
    "# Everything in cgs for the moment:\n",
    "if 'mu_gas' in snap.info:\n",
    "    mu=snap.info['mu_gas'] #mass per particles\n",
    "else:\n",
    "    mu=1.4\n",
    "print(\"WORKING WITH mu_gas = \", mu)"
   ]
  },
  {
   "cell_type": "code",
   "execution_count": 37,
   "id": "4c17942f",
   "metadata": {},
   "outputs": [],
   "source": [
    "G = 6.7e-8\n",
    "kbol  =  1.38062e-16   # erg/degre\n",
    "pc=3.08e18 #cm\n",
    "mp =  mu * 1.660531e-24  #n gramme\n",
    "scale_n = 1.\n",
    "scale_l = pc\n",
    "scale_d = scale_n*mp\n",
    "scale_t = 1.0/np.sqrt(G*scale_d)\n",
    "scale_v = scale_l / scale_t    \n",
    "scale_T2 = mp/kbol * scale_v**2"
   ]
  },
  {
   "cell_type": "code",
   "execution_count": 38,
   "id": "4bfb8658",
   "metadata": {},
   "outputs": [
    {
     "name": "stdout",
     "output_type": "stream",
     "text": [
      "unit 0.02917236910296533\n",
      "scale_T2 0.06773607233773474\n"
     ]
    }
   ],
   "source": [
    "#============================================\n",
    "unit = snap.info[\"unit_temperature\"].express(C.K)\n",
    "print(\"unit\", unit)\n",
    "print(\"scale_T2\", scale_T2)\n",
    "X = 0.76 # Hydrogen mass fraction"
   ]
  },
  {
   "cell_type": "code",
   "execution_count": 39,
   "id": "94c96442",
   "metadata": {},
   "outputs": [],
   "source": [
    "#output[\"Tgas\"] = cells[\"P\"]/cells[\"rho\"]*scale_T2\n",
    "#output[\"Tdust\"] = cells[\"P\"]/cells[\"rho\"]*scale_T2\n",
    "#print(\"Min Max Mean T\", output[\"Tgas\"].min(), output[\"Tgas\"].max(), output[\"Tgas\"].mean())\n",
    "#print(\"*************************************************\")"
   ]
  },
  {
   "cell_type": "code",
   "execution_count": 40,
   "id": "d284728c",
   "metadata": {},
   "outputs": [],
   "source": [
    "# Velocity in m/s\n",
    "#output[\"vel\"] = cells[\"vel\"]*snap.info[\"unit_velocity\"].express(C.m/C.s)"
   ]
  },
  {
   "cell_type": "code",
   "execution_count": 41,
   "id": "25664374",
   "metadata": {},
   "outputs": [],
   "source": [
    "# B-field in G\n",
    "unit_b = snap.info['unit_mag'].express(C.T)\n",
    "unit_b = unit_b * 8 * np.pi\t"
   ]
  },
  {
   "cell_type": "code",
   "execution_count": 42,
   "id": "64d29c79",
   "metadata": {},
   "outputs": [],
   "source": [
    "output[\"mass_dens\"] = cells[\"rho\"]*mp"
   ]
  },
  {
   "cell_type": "markdown",
   "id": "e63b8772",
   "metadata": {},
   "source": [
    "# converting into RADMC3D files"
   ]
  },
  {
   "cell_type": "code",
   "execution_count": 43,
   "id": "a4a714b5",
   "metadata": {},
   "outputs": [
    {
     "name": "stdout",
     "output_type": "stream",
     "text": [
      "  -> Found 3 namelist files (*.nml)\n",
      "  -> Checking endianness for output #13...\n",
      "  -> Computing hilbert minimal domain description for output #13...\n"
     ]
    }
   ],
   "source": [
    "L_cm = pymses.RamsesOutput(datapath, num).info[\"unit_length\"].express(C.cm) # box length in cm"
   ]
  },
  {
   "cell_type": "code",
   "execution_count": 44,
   "id": "ddb7b565",
   "metadata": {},
   "outputs": [],
   "source": [
    "#\n",
    "# Transpose center of cube\n",
    "#\n",
    "x_min = -0.5*unit_l\n",
    "y_min = -0.5*unit_l\n",
    "z_min = -0.5*unit_l\n",
    "\n",
    "max_level = max(output[\"level\"])\n",
    "min_level = min(output[\"level\"])"
   ]
  },
  {
   "cell_type": "code",
   "execution_count": 45,
   "id": "2577665b",
   "metadata": {},
   "outputs": [
    {
     "name": "stdout",
     "output_type": "stream",
     "text": [
      "\n",
      "\n",
      "Octree parameter:\n",
      "    Level        (min,max)  :  5 , 13\n",
      "    Nr. of cells (data, max):  516377 , 549755813888.0\n",
      "    Length       (min,max)  :  635981020715.5265 , 5209956521701593.0 \n",
      "\n"
     ]
    }
   ],
   "source": [
    "print(\"\\n\")\n",
    "print(\"Octree parameter:\")\n",
    "print(\"    Level        (min,max)  : \", int(min_level),\",\", int(max_level))\n",
    "print(\"    Nr. of cells (data, max): \", nr_of_cells,\",\", 8**max_level)\n",
    "print(\"    Length       (min,max)  : \", unit_l/(2**max_level),\",\", unit_l, \"\\n\")"
   ]
  },
  {
   "cell_type": "code",
   "execution_count": 46,
   "id": "fc72d1a3",
   "metadata": {},
   "outputs": [],
   "source": [
    "#\n",
    "# Init. octree\n",
    "#\n",
    "tree = OcTree(x_min, y_min, z_min, unit_l)"
   ]
  },
  {
   "cell_type": "code",
   "execution_count": 47,
   "id": "9b6e89fb",
   "metadata": {},
   "outputs": [
    {
     "data": {
      "text/plain": [
       "-159317120958661.25"
      ]
     },
     "execution_count": 47,
     "metadata": {},
     "output_type": "execute_result"
    }
   ],
   "source": [
    "size_hole_au = 4\n",
    "# to add manually for the moment\n",
    "x,y,z = 0.0794141, 0.0870526, 0.0792167 # from sink.info, corner position x, y, z in pc\n",
    "boxlen = 0.169154432522779 # from info.txt in pc\n",
    "\n",
    "# xcen = x - boxlen/2\n",
    "\n",
    "xcen = x - boxlen/2\n",
    "ycen = y - boxlen/2\n",
    "zcen = z - boxlen/2\n",
    "xcen, ycen, zcen\n",
    "starpos = np.asarray((xcen*pc2m, ycen*pc2m, zcen*pc2m))\n",
    "starpos[0]"
   ]
  },
  {
   "cell_type": "code",
   "execution_count": 48,
   "id": "2dadc5f0",
   "metadata": {},
   "outputs": [
    {
     "data": {
      "text/plain": [
       "array([-1.59317121e+14,  7.63823611e+13, -1.65408249e+14])"
      ]
     },
     "execution_count": 48,
     "metadata": {},
     "output_type": "execute_result"
    }
   ],
   "source": [
    "starpos"
   ]
  },
  {
   "cell_type": "code",
   "execution_count": null,
   "id": "7235e63d",
   "metadata": {},
   "outputs": [],
   "source": []
  },
  {
   "cell_type": "code",
   "execution_count": 49,
   "id": "aa220834",
   "metadata": {},
   "outputs": [
    {
     "name": "stdout",
     "output_type": "stream",
     "text": [
      "pos -159313245689239.5 76635712996221.0 -165037074875679.0\n",
      "dens= 0 used to be 537136128361.4769\n",
      "pos -159313245689239.5 76635712996221.0 -165673055896394.5\n",
      "dens= 0 used to be 504299156265.1072\n",
      "pos -159313245689239.5 75999731975505.5 -165673055896394.5\n",
      "dens= 0 used to be 523737140009.41034\n",
      "pos -159313245689239.5 75999731975505.5 -165037074875679.0\n",
      "dens= 0 used to be 556497762028.974\n",
      "Constructing octree: 98.76504956649889 %     \r"
     ]
    }
   ],
   "source": [
    "#\n",
    "# Fill octree\n",
    "#\n",
    "for i in range(0,nr_of_cells):\n",
    "    #\n",
    "    # Create single cell\n",
    "    #\n",
    "    level = output[\"level\"][i]\n",
    "    \n",
    "    c_x = output[\"x\"][i]-0.5*unit_l\n",
    "    c_y = output[\"y\"][i]-0.5*unit_l\n",
    "    c_z = output[\"z\"][i]-0.5*unit_l\n",
    "    \n",
    "    mass_dens = output[\"mass_dens\"][i]\n",
    "    dens = output[\"dens\"][i]\n",
    "    dustratio1 = output[\"dustratio1\"][i]\n",
    "    dustratio2 = output[\"dustratio2\"][i]\n",
    "    dustratio3 = output[\"dustratio3\"][i]\n",
    "    dustratio4 = output[\"dustratio4\"][i]\n",
    "    dustratio5 = output[\"dustratio5\"][i]\n",
    "    dustratio6 = output[\"dustratio6\"][i]\n",
    "    dustratio7 = output[\"dustratio7\"][i]\n",
    "    dustratio8 = output[\"dustratio8\"][i]\n",
    "    dustratio9 = output[\"dustratio9\"][i]\n",
    "    dustratio10 = output[\"dustratio10\"][i]\n",
    "    #Tgas = output[\"Tgas\"][i]\n",
    "    #Tdust = output[\"Tdust\"][i]\n",
    "    \n",
    "    #mag_x = output[\"B\"][i][0]\n",
    "    #mag_y = output[\"B\"][i][1]\n",
    "    #mag_z = output[\"B\"][i][2]\n",
    "    \n",
    "    #vel_x = output[\"vel\"][i][0]\n",
    "    #vel_y = output[\"vel\"][i][1]\n",
    "    #vel_z = output[\"vel\"][i][2]\n",
    "\n",
    "# ADDED FROM RADMC2POLARIS\n",
    "    if starpos is not None:\n",
    "        dstar = np.sqrt((c_x-starpos[0])**2 + (c_y-starpos[1])**2 + (c_z-starpos[2])**2)  \n",
    "        if (dstar <= size_hole_au*au2m):\n",
    "            print(\"pos\", c_x, c_y, c_z)\n",
    "            dens = 0\n",
    "            mass_dens = 0\n",
    "            dustratio1 = 0\n",
    "            dustratio2 = 0\n",
    "            dustratio3 = 0\n",
    "            dustratio4 = 0\n",
    "            dustratio5 = 0\n",
    "            dustratio6 = 0\n",
    "            dustratio7 = 0\n",
    "            dustratio8 = 0\n",
    "            dustratio9 = 0\n",
    "            dustratio10 = 0\n",
    "            print(\"dens=\", 0,\"used to be\",output[\"dens\"][i])\n",
    "# END  ADDED FROM RADMC2POLARIS\n",
    "\n",
    "    cell = cell_oct(c_x, c_y, c_z, 0, level)\n",
    "    cell.data =[mass_dens, dens, dustratio1, \n",
    "                                 dustratio2,\n",
    "                                 dustratio3,\n",
    "                                 dustratio4,\n",
    "                                 dustratio5,\n",
    "                                 dustratio6,\n",
    "                                 dustratio7,\n",
    "                                 dustratio8,\n",
    "                                 dustratio9,\n",
    "                                 dustratio10, 0]    # for single dust distribution\n",
    "    #\n",
    "    # Insert single cell into octree\n",
    "    #\n",
    "    cell_root= tree.root\n",
    "    tree.insertInTree(cell_root, cell,0)\n",
    "\n",
    "    if i % 10000 == 0:\n",
    "        sys.stdout.write('Constructing octree: ' + str(100.0 * i / nr_of_cells) + ' %    \\r')\n",
    "        sys.stdout.flush()\n",
    "#"
   ]
  },
  {
   "cell_type": "code",
   "execution_count": 50,
   "id": "0cb2f95f",
   "metadata": {},
   "outputs": [
    {
     "name": "stdout",
     "output_type": "stream",
     "text": [
      "Constructing octree:    done                          \n"
     ]
    }
   ],
   "source": [
    "sys.stdout.write(CLR_LINE)\n",
    "print (\"Constructing octree:    done   \")"
   ]
  },
  {
   "cell_type": "code",
   "execution_count": 51,
   "id": "bcffe719",
   "metadata": {},
   "outputs": [
    {
     "name": "stdout",
     "output_type": "stream",
     "text": [
      "Calling tree.checkOcTree(cell_root), nr_of_cells= 516377\n",
      "Tree OK ;)g octree integrity : 98.76504956649889 %      \n",
      "                                                      \r"
     ]
    },
    {
     "data": {
      "text/plain": [
       "55"
      ]
     },
     "execution_count": 51,
     "metadata": {},
     "output_type": "execute_result"
    }
   ],
   "source": [
    "#\n",
    "# Check octree integrity\n",
    "#\n",
    "print (\"Calling tree.checkOcTree(cell_root), nr_of_cells=\", nr_of_cells)\n",
    "check = tree.checkOcTree(cell_root)\n",
    "print (\"Tree OK ;)\")\n",
    "sys.stdout.write(CLR_LINE)"
   ]
  },
  {
   "cell_type": "code",
   "execution_count": 52,
   "id": "c8a8deea",
   "metadata": {},
   "outputs": [
    {
     "name": "stdout",
     "output_type": "stream",
     "text": [
      "Octree structure   :    OK      \n",
      "Writing octree     :    done   \n",
      "\n",
      "Octree successfully created\n",
      "\n"
     ]
    }
   ],
   "source": [
    "if check == False:\n",
    "    print (\"ERROR: Octree integrity is inconsistent!   \\n\\n\")\n",
    "    exit ()\n",
    "else:\n",
    "    print (\"Octree structure   :    OK      \") \n",
    "        \n",
    "print(\"Writing octree     :    done   \\n\")\n",
    "\n",
    "print(\"Octree successfully created\\n\")"
   ]
  },
  {
   "cell_type": "code",
   "execution_count": 53,
   "id": "f2780df5",
   "metadata": {},
   "outputs": [
    {
     "name": "stdout",
     "output_type": "stream",
     "text": [
      "                                                       \r"
     ]
    },
    {
     "data": {
      "text/plain": [
       "55"
      ]
     },
     "execution_count": 53,
     "metadata": {},
     "output_type": "execute_result"
    }
   ],
   "source": [
    "#\n",
    "# Write octree\n",
    "#\n",
    "cell_counter = 0.0    \n",
    "grid = []                                                     # Vector containing cell values (0/1) in RADMC convention\n",
    "density = []                                                  # Vector containing dust density in RADMC convention\n",
    "#temperature = []                                              # Vector containing gas temperature in RADMC convention\n",
    "tree.writeOcTree_radmc(tree.root, grid, density)\n",
    "sys.stdout.write(CLR_LINE)"
   ]
  },
  {
   "cell_type": "markdown",
   "id": "a2358f26",
   "metadata": {},
   "source": [
    "## create amr_grid.inp file"
   ]
  },
  {
   "cell_type": "code",
   "execution_count": 54,
   "id": "f019ee3f",
   "metadata": {},
   "outputs": [
    {
     "name": "stdout",
     "output_type": "stream",
     "text": [
      "Writing the amr_grid.inp file for RADMC-3D...\n",
      "\n"
     ]
    }
   ],
   "source": [
    "#\n",
    "# Create output directory if not existed\n",
    "#\n",
    "os.makedirs(os.path.dirname(output_path), exist_ok=True)\n",
    "#\n",
    "print(\"Writing the amr_grid.inp file for RADMC-3D...\\n\")\n",
    "#\n",
    "with open(output_path+'amr_grid.inp','w+') as f:\n",
    "    f.write('1\\n')                                            # iformat <=== Typically 1 at present\n",
    "    f.write('1\\n')                                            # Grid style (1 = Oct-tree)\n",
    "    f.write('1\\n')                                            # coordsystem (cartesian if coordsystem < 100)\n",
    "    f.write('0\\n')                                            # gridinfo (= 0 recommended)\n",
    "    f.write('1\\t1\\t1\\n')                                      # incl_x,incl_y,incl_z\n",
    "    f.write('1\\t1\\t1\\n')                                      # nx,ny,nz\n",
    "    f.write('%d\\t%d\\t%d\\n'%(max_level,nr_of_cells,len(grid))) # levelmax, nleafsmax, nbranchmax\n",
    "    f.write('%e\\t%e\\n'%(-L_cm/2,L_cm/2))\n",
    "    f.write('%e\\t%e\\n'%(-L_cm/2,L_cm/2))\n",
    "    f.write('%e\\t%e\\n'%(-L_cm/2,L_cm/2))\n",
    "\n",
    "    for i in range(len(grid)):\n",
    "        f.write('%d\\n'%grid[i])"
   ]
  },
  {
   "cell_type": "markdown",
   "id": "842d9174",
   "metadata": {},
   "source": [
    "## create dust_density.inp file"
   ]
  },
  {
   "cell_type": "code",
   "execution_count": 55,
   "id": "6d357145",
   "metadata": {},
   "outputs": [
    {
     "data": {
      "text/plain": [
       "0.01"
      ]
     },
     "execution_count": 55,
     "metadata": {},
     "output_type": "execute_result"
    }
   ],
   "source": [
    "dust_to_gas"
   ]
  },
  {
   "cell_type": "code",
   "execution_count": 56,
   "id": "e769ba58",
   "metadata": {},
   "outputs": [],
   "source": [
    "density_np = np.asarray(density)"
   ]
  },
  {
   "cell_type": "code",
   "execution_count": null,
   "id": "f150256f",
   "metadata": {},
   "outputs": [],
   "source": []
  },
  {
   "cell_type": "code",
   "execution_count": 57,
   "id": "7ad82ede",
   "metadata": {},
   "outputs": [
    {
     "name": "stdout",
     "output_type": "stream",
     "text": [
      "Writing the dust_density.inp file for RADMC-3D...\n",
      "\n"
     ]
    }
   ],
   "source": [
    "print(\"Writing the dust_density.inp file for RADMC-3D...\\n\")\n",
    "#\n",
    "with open(output_path+'dust_density.inp','w+') as f:\n",
    "    f.write('1\\n')\n",
    "    f.write('%d\\n'%nr_of_cells)\n",
    "    f.write('10\\n')\n",
    "    for nbi in range(1, 11):\n",
    "        for i in range(len(density)):\n",
    "            f.write('%e\\n'%(density[i]*output[\"dustratio%d\"%nbi][i]))"
   ]
  },
  {
   "cell_type": "code",
   "execution_count": 58,
   "id": "fb40e345",
   "metadata": {},
   "outputs": [
    {
     "data": {
      "text/plain": [
       "5163773"
      ]
     },
     "execution_count": 58,
     "metadata": {},
     "output_type": "execute_result"
    }
   ],
   "source": [
    "516377*10 + 3"
   ]
  },
  {
   "cell_type": "code",
   "execution_count": null,
   "metadata": {},
   "outputs": [],
   "source": []
  },
  {
   "cell_type": "markdown",
   "id": "c0ec87d6",
   "metadata": {},
   "source": [
    "## create star.inp file"
   ]
  },
  {
   "cell_type": "code",
   "execution_count": 59,
   "id": "7bbcb33f",
   "metadata": {},
   "outputs": [
    {
     "data": {
      "text/plain": [
       "'/data/pebbles/scratch/output_00013/sink_00013.csv'"
      ]
     },
     "execution_count": 59,
     "metadata": {},
     "output_type": "execute_result"
    }
   ],
   "source": [
    "sink_filename"
   ]
  },
  {
   "cell_type": "code",
   "execution_count": 60,
   "id": "6221b116",
   "metadata": {},
   "outputs": [],
   "source": [
    "names = ['id','mass','dmf', 'x','y','z','vx','vy','vz','rot_period','lx','ly','lz','acc_rate','acc_lum','age','int_lum','Teff']\n",
    "sinkp = pd.read_csv(sink_filename, header=None, names=names)"
   ]
  },
  {
   "cell_type": "code",
   "execution_count": 61,
   "id": "5d275fe3",
   "metadata": {},
   "outputs": [
    {
     "data": {
      "text/html": [
       "<div>\n",
       "<style scoped>\n",
       "    .dataframe tbody tr th:only-of-type {\n",
       "        vertical-align: middle;\n",
       "    }\n",
       "\n",
       "    .dataframe tbody tr th {\n",
       "        vertical-align: top;\n",
       "    }\n",
       "\n",
       "    .dataframe thead th {\n",
       "        text-align: right;\n",
       "    }\n",
       "</style>\n",
       "<table border=\"1\" class=\"dataframe\">\n",
       "  <thead>\n",
       "    <tr style=\"text-align: right;\">\n",
       "      <th></th>\n",
       "      <th>id</th>\n",
       "      <th>mass</th>\n",
       "      <th>dmf</th>\n",
       "      <th>x</th>\n",
       "      <th>y</th>\n",
       "      <th>z</th>\n",
       "      <th>vx</th>\n",
       "      <th>vy</th>\n",
       "      <th>vz</th>\n",
       "      <th>rot_period</th>\n",
       "      <th>lx</th>\n",
       "      <th>ly</th>\n",
       "      <th>lz</th>\n",
       "      <th>acc_rate</th>\n",
       "      <th>acc_lum</th>\n",
       "      <th>age</th>\n",
       "      <th>int_lum</th>\n",
       "      <th>Teff</th>\n",
       "    </tr>\n",
       "  </thead>\n",
       "  <tbody>\n",
       "    <tr>\n",
       "      <th>0</th>\n",
       "      <td>1</td>\n",
       "      <td>0.000376</td>\n",
       "      <td>0.000376</td>\n",
       "      <td>0.079414</td>\n",
       "      <td>0.087053</td>\n",
       "      <td>0.079217</td>\n",
       "      <td>-3.113407</td>\n",
       "      <td>-12.938643</td>\n",
       "      <td>6.033401</td>\n",
       "      <td>3044.165395</td>\n",
       "      <td>-0.546569</td>\n",
       "      <td>0.046175</td>\n",
       "      <td>0.83614</td>\n",
       "      <td>0.0</td>\n",
       "      <td>0.0</td>\n",
       "      <td>30.262967</td>\n",
       "      <td>0.0</td>\n",
       "      <td>5000.0</td>\n",
       "    </tr>\n",
       "  </tbody>\n",
       "</table>\n",
       "</div>"
      ],
      "text/plain": [
       "   id      mass       dmf         x         y         z        vx         vy  \\\n",
       "0   1  0.000376  0.000376  0.079414  0.087053  0.079217 -3.113407 -12.938643   \n",
       "\n",
       "         vz   rot_period        lx        ly       lz  acc_rate  acc_lum  \\\n",
       "0  6.033401  3044.165395 -0.546569  0.046175  0.83614       0.0      0.0   \n",
       "\n",
       "         age  int_lum    Teff  \n",
       "0  30.262967      0.0  5000.0  "
      ]
     },
     "execution_count": 61,
     "metadata": {},
     "output_type": "execute_result"
    }
   ],
   "source": [
    "sinkp"
   ]
  },
  {
   "cell_type": "code",
   "execution_count": 62,
   "id": "dc861056",
   "metadata": {},
   "outputs": [],
   "source": [
    "sinkp = sinkp[sinkp['Teff']!=0] #drop rows with stellar temperature of zero"
   ]
  },
  {
   "cell_type": "code",
   "execution_count": 63,
   "id": "5edf6235",
   "metadata": {},
   "outputs": [
    {
     "data": {
      "text/html": [
       "<div>\n",
       "<style scoped>\n",
       "    .dataframe tbody tr th:only-of-type {\n",
       "        vertical-align: middle;\n",
       "    }\n",
       "\n",
       "    .dataframe tbody tr th {\n",
       "        vertical-align: top;\n",
       "    }\n",
       "\n",
       "    .dataframe thead th {\n",
       "        text-align: right;\n",
       "    }\n",
       "</style>\n",
       "<table border=\"1\" class=\"dataframe\">\n",
       "  <thead>\n",
       "    <tr style=\"text-align: right;\">\n",
       "      <th></th>\n",
       "      <th>id</th>\n",
       "      <th>mass</th>\n",
       "      <th>dmf</th>\n",
       "      <th>x</th>\n",
       "      <th>y</th>\n",
       "      <th>z</th>\n",
       "      <th>vx</th>\n",
       "      <th>vy</th>\n",
       "      <th>vz</th>\n",
       "      <th>rot_period</th>\n",
       "      <th>lx</th>\n",
       "      <th>ly</th>\n",
       "      <th>lz</th>\n",
       "      <th>acc_rate</th>\n",
       "      <th>acc_lum</th>\n",
       "      <th>age</th>\n",
       "      <th>int_lum</th>\n",
       "      <th>Teff</th>\n",
       "    </tr>\n",
       "  </thead>\n",
       "  <tbody>\n",
       "    <tr>\n",
       "      <th>0</th>\n",
       "      <td>1</td>\n",
       "      <td>0.000376</td>\n",
       "      <td>0.000376</td>\n",
       "      <td>0.079414</td>\n",
       "      <td>0.087053</td>\n",
       "      <td>0.079217</td>\n",
       "      <td>-3.113407</td>\n",
       "      <td>-12.938643</td>\n",
       "      <td>6.033401</td>\n",
       "      <td>3044.165395</td>\n",
       "      <td>-0.546569</td>\n",
       "      <td>0.046175</td>\n",
       "      <td>0.83614</td>\n",
       "      <td>0.0</td>\n",
       "      <td>0.0</td>\n",
       "      <td>30.262967</td>\n",
       "      <td>0.0</td>\n",
       "      <td>5000.0</td>\n",
       "    </tr>\n",
       "  </tbody>\n",
       "</table>\n",
       "</div>"
      ],
      "text/plain": [
       "   id      mass       dmf         x         y         z        vx         vy  \\\n",
       "0   1  0.000376  0.000376  0.079414  0.087053  0.079217 -3.113407 -12.938643   \n",
       "\n",
       "         vz   rot_period        lx        ly       lz  acc_rate  acc_lum  \\\n",
       "0  6.033401  3044.165395 -0.546569  0.046175  0.83614       0.0      0.0   \n",
       "\n",
       "         age  int_lum    Teff  \n",
       "0  30.262967      0.0  5000.0  "
      ]
     },
     "execution_count": 63,
     "metadata": {},
     "output_type": "execute_result"
    }
   ],
   "source": [
    "sinkp"
   ]
  },
  {
   "cell_type": "code",
   "execution_count": 64,
   "id": "3aeacb85",
   "metadata": {},
   "outputs": [],
   "source": [
    "sinkp['lum'] = sinkp['acc_lum']+sinkp['int_lum']"
   ]
  },
  {
   "cell_type": "code",
   "execution_count": 65,
   "id": "bd653277",
   "metadata": {},
   "outputs": [],
   "source": [
    "sinkp['radii'] = (sinkp['lum']*ls/sinkp['Teff']**4/sigma/4/np.pi)**(1/2)  "
   ]
  },
  {
   "cell_type": "code",
   "execution_count": 66,
   "id": "8207a03f",
   "metadata": {},
   "outputs": [],
   "source": [
    "L_cm   = snap.info[\"unit_length\"].express(C.cm)\n",
    "sinkp['x'] = (sinkp['x']/snap.info['boxlen'] - 0.5)*L_cm\n",
    "sinkp['y'] = (sinkp['y']/snap.info['boxlen'] - 0.5)*L_cm\n",
    "sinkp['z'] = (sinkp['z']/snap.info['boxlen'] - 0.5)*L_cm"
   ]
  },
  {
   "cell_type": "code",
   "execution_count": 67,
   "id": "5e5d8ce1",
   "metadata": {},
   "outputs": [],
   "source": [
    "nlam = 200\n",
    "nstars = len(sinkp)"
   ]
  },
  {
   "cell_type": "code",
   "execution_count": 68,
   "id": "ab81ea0e",
   "metadata": {},
   "outputs": [
    {
     "data": {
      "text/plain": [
       "1"
      ]
     },
     "execution_count": 68,
     "metadata": {},
     "output_type": "execute_result"
    }
   ],
   "source": [
    "nstars"
   ]
  },
  {
   "cell_type": "code",
   "execution_count": 69,
   "id": "2a020047",
   "metadata": {},
   "outputs": [],
   "source": [
    "lam = np.logspace(np.log10(0.05), np.log10(4000), nlam)"
   ]
  },
  {
   "cell_type": "code",
   "execution_count": 70,
   "id": "c73f8764",
   "metadata": {},
   "outputs": [],
   "source": [
    "f = open(output_path+'stars.inp','w+')\n",
    "\n",
    "f.write(str(2)+\"\\n\")\n",
    "f.write(\"{0:d}  {1:d}\\n\".format(nstars, nlam))\n",
    "\n",
    "for istar in range (nstars):\n",
    "    f.write(\"{0:e}   {1:e}   {2:e}   {3:e}   {4:e}\\n\".format(sinkp['radii'].iloc[istar], sinkp['mass'].iloc[istar]*ms, sinkp['x'].iloc[istar], sinkp['y'].iloc[istar], sinkp['z'].iloc[istar]))\n",
    "\n",
    "for ilam in range(nlam):\n",
    "    f.write(\"{0:f}\\n\".format(lam[ilam]))\n",
    "    \n",
    "for istar in range(nstars):\n",
    "    f.write(\"{0:f}\\n\".format(-sinkp['Teff'].iloc[istar]))\n",
    "\n",
    "f.close()"
   ]
  },
  {
   "cell_type": "code",
   "execution_count": null,
   "id": "43da1c28",
   "metadata": {},
   "outputs": [],
   "source": []
  },
  {
   "cell_type": "code",
   "execution_count": null,
   "metadata": {},
   "outputs": [],
   "source": []
  },
  {
   "cell_type": "code",
   "execution_count": null,
   "metadata": {},
   "outputs": [],
   "source": []
  },
  {
   "cell_type": "markdown",
   "id": "f8ed5c35",
   "metadata": {},
   "source": [
    "# CREATE REGULAR GRID"
   ]
  },
  {
   "cell_type": "code",
   "execution_count": 4,
   "id": "a40bb660",
   "metadata": {},
   "outputs": [
    {
     "data": {
      "text/plain": [
       "783426578073089.8"
      ]
     },
     "execution_count": 4,
     "metadata": {},
     "output_type": "execute_result"
    }
   ],
   "source": [
    "path='output_00080_a/'\n",
    "size=1.179057e+17\n",
    "nx=ny=nz=301\n",
    "res=(2*size)/nx\n",
    "res"
   ]
  },
  {
   "cell_type": "code",
   "execution_count": 3,
   "id": "ead7ae74",
   "metadata": {},
   "outputs": [],
   "source": [
    "def regular_grid(path, nx, ny, nz, x, y, z, prop='temperature'):\n",
    "    os.chdir(path)\n",
    "    cmd_subbox = 'radmc3d subbox_dust_'+prop+' subbox_nxyz %d %d %d subbox_xyz01 %12.6e %12.6e %12.6e %12.6e %13.6e %12.6e'%(nx, ny, nz, -x, x, -y, y, -z, z)\n",
    "    #center = center_au*autocm\\ -2.358113e+18\n",
    "    os.system(cmd_subbox)"
   ]
  },
  {
   "cell_type": "code",
   "execution_count": 6,
   "id": "05ec6fad",
   "metadata": {},
   "outputs": [],
   "source": [
    "def temperature2D(path, temp, ext, size, nx, ny, nz, res, mid=49, vmin=15000, vmax=28000, save=False, savename='temperature2D.inp'):\n",
    "\n",
    "    x=y=z=np.linspace(-size, size, nx)\n",
    "    temp = np.reshape(temp, (nx, ny, nz)) # reshape the density structure.\n",
    "    xx, yy = np.meshgrid(x, y)# create grid for figure\n",
    "\n",
    "\n",
    "    coltemp = np.sum(temp, axis=2)#*res\n",
    "    print(coltemp.shape, xx.shape)\n",
    "\n",
    "\n",
    "    fig = plt.figure(figsize=(6, 5.))\n",
    "    ax = fig.add_subplot(111)\n",
    "    plt.xlabel(r'x [au]', fontsize = 17)\n",
    "    plt.ylabel(r'y [au]', fontsize = 17, labelpad=-7.4)\n",
    "\n",
    "    ax.set_xlim(-4000, 4000)\n",
    "    ax.set_ylim(-4000, 4000)\n",
    "    ax.tick_params(labelsize=17)\n",
    "    t = plt.pcolormesh(x, y, temp[:,mid, :], cmap='hot', shading='gouraud', vmin=vmin, vmax=vmax)\n",
    "    #t = plt.pcolormesh(x, y, coltemp[:,:], cmap='hot', shading='gouraud', vmin=vmin, vmax=vmax)\n",
    "    clr = plt.colorbar(t, pad=0.01)\n",
    "    ax.text(0.05, 0.95, 'radmc3d', horizontalalignment='left',verticalalignment='center', transform=ax.transAxes)\n",
    "\n",
    "    if save == True:\n",
    "        plt.savefig('%s'%savename, dpi=150, bbox_inches=\"tight\")"
   ]
  },
  {
   "cell_type": "code",
   "execution_count": 4,
   "id": "4f10dbf5",
   "metadata": {},
   "outputs": [
    {
     "ename": "NameError",
     "evalue": "name 'path' is not defined",
     "output_type": "error",
     "traceback": [
      "\u001b[0;31m---------------------------------------------------------------------------\u001b[0m",
      "\u001b[0;31mNameError\u001b[0m                                 Traceback (most recent call last)",
      "Cell \u001b[0;32mIn[4], line 1\u001b[0m\n\u001b[0;32m----> 1\u001b[0m regular_grid(\u001b[43mpath\u001b[49m, nx, ny, nz, x\u001b[38;5;241m=\u001b[39msize, y\u001b[38;5;241m=\u001b[39msize, z\u001b[38;5;241m=\u001b[39msize, prop\u001b[38;5;241m=\u001b[39m\u001b[38;5;124m'\u001b[39m\u001b[38;5;124mdensity\u001b[39m\u001b[38;5;124m'\u001b[39m)\n",
      "\u001b[0;31mNameError\u001b[0m: name 'path' is not defined"
     ]
    }
   ],
   "source": [
    "regular_grid(path, nx, ny, nz, x=size, y=size, z=size, prop='density')"
   ]
  },
  {
   "cell_type": "code",
   "execution_count": 8,
   "id": "c298277a",
   "metadata": {},
   "outputs": [],
   "source": [
    "ext_t = '_isotr_wl_301'\n",
    "temp = pd.read_table(path+'dust_temperature{}.dat'.format(ext_t), engine='python', header=None, skiprows=7)\n",
    "temp = temp[0].values #to numpy"
   ]
  },
  {
   "cell_type": "code",
   "execution_count": 9,
   "id": "283aa862",
   "metadata": {},
   "outputs": [],
   "source": [
    "pctocm = 3.08567782E+18\n",
    "autocm = 1.49598e13"
   ]
  },
  {
   "cell_type": "code",
   "execution_count": 10,
   "id": "abd315c2",
   "metadata": {},
   "outputs": [
    {
     "name": "stdout",
     "output_type": "stream",
     "text": [
      "(301, 301) (301, 301)\n"
     ]
    },
    {
     "data": {
      "image/png": "[encoded data removed]",
      "text/plain": [
       "<Figure size 600x500 with 2 Axes>"
      ]
     },
     "metadata": {},
     "output_type": "display_data"
    }
   ],
   "source": [
    "temperature2D(path=path, temp=temp, ext=ext_t, size=size/autocm, nx=nx, ny=ny, nz=nz, res=res, mid=150, vmin=0, vmax=50, save=False, savename='temperature2D.inp')"
   ]
  },
  {
   "cell_type": "code",
   "execution_count": 11,
   "id": "615d196e",
   "metadata": {},
   "outputs": [],
   "source": [
    "from astropy.io import fits\n",
    "path_ilseung = '/data/pebbles/scratch/ilseung/6.0e+06/'"
   ]
  },
  {
   "cell_type": "code",
   "execution_count": 12,
   "id": "eb5d704d",
   "metadata": {},
   "outputs": [],
   "source": [
    "temp_ilseung = fits.getdata(path_ilseung + 'input_midplane_3d.fits.gz')[2]"
   ]
  },
  {
   "cell_type": "code",
   "execution_count": 13,
   "id": "ed01722d",
   "metadata": {},
   "outputs": [
    {
     "data": {
      "text/plain": [
       "(301, 301, 301)"
      ]
     },
     "execution_count": 13,
     "metadata": {},
     "output_type": "execute_result"
    }
   ],
   "source": [
    "temp_ilseung.shape"
   ]
  },
  {
   "cell_type": "code",
   "execution_count": null,
   "id": "f1432eb4",
   "metadata": {},
   "outputs": [],
   "source": []
  },
  {
   "cell_type": "code",
   "execution_count": 12,
   "id": "566863ab",
   "metadata": {},
   "outputs": [
    {
     "data": {
      "text/plain": [
       "Text(0.05, 0.95, 'polaris')"
      ]
     },
     "execution_count": 12,
     "metadata": {},
     "output_type": "execute_result"
    },
    {
     "data": {
      "image/png": "[encoded data removed]",
      "text/plain": [
       "<Figure size 600x500 with 2 Axes>"
      ]
     },
     "metadata": {},
     "output_type": "display_data"
    }
   ],
   "source": [
    "\n",
    "x=z=y=np.linspace(-size/autocm, size/autocm, nx)\n",
    "temp = np.reshape(temp, (nx, ny, nz)) # reshape the density structure.\n",
    "xx, yy = np.meshgrid(x, y)# create grid for figure\n",
    "\n",
    "\n",
    "fig = plt.figure(figsize=(6, 5.))\n",
    "ax = fig.add_subplot(111)\n",
    "plt.xlabel(r'x [au]', fontsize = 17)\n",
    "plt.ylabel(r'y [au]', fontsize = 17, labelpad=-7.4)\n",
    "\n",
    "ax.set_xlim(-4000, 4000)\n",
    "ax.set_ylim(-4000, 4000)\n",
    "ax.tick_params(labelsize=17)\n",
    "t = plt.pcolormesh(z, x, temp_ilseung[:, 150, :], cmap='hot', shading='gouraud', vmin=0, vmax=50)\n",
    "clr = plt.colorbar(t, pad=0.01)\n",
    "ax.text(0.05, 0.95, 'polaris', horizontalalignment='left',verticalalignment='center', transform=ax.transAxes)"
   ]
  },
  {
   "cell_type": "code",
   "execution_count": 13,
   "id": "dc36b5a8",
   "metadata": {},
   "outputs": [
    {
     "data": {
      "text/plain": [
       "63.87285232543945"
      ]
     },
     "execution_count": 13,
     "metadata": {},
     "output_type": "execute_result"
    }
   ],
   "source": [
    "np.max(temp_ilseung[:, 150, :])"
   ]
  },
  {
   "cell_type": "code",
   "execution_count": 14,
   "id": "03d99f1d",
   "metadata": {},
   "outputs": [
    {
     "data": {
      "text/plain": [
       "9.60016269004875"
      ]
     },
     "execution_count": 14,
     "metadata": {},
     "output_type": "execute_result"
    }
   ],
   "source": [
    "coltemp = np.sum(temp, axis=1)\n",
    "coltemp_ilseung = np.sum(temp_ilseung, axis=1)\n",
    "diff_percent = 100*(coltemp_ilseung[:, :]-coltemp[:, :])/coltemp_ilseung[:,  :]\n",
    "np.max(diff_percent)"
   ]
  },
  {
   "cell_type": "code",
   "execution_count": 16,
   "id": "2daf3a85",
   "metadata": {},
   "outputs": [
    {
     "data": {
      "text/plain": [
       "Text(0.05, 0.95, 'polaris - radmc3d (%)')"
      ]
     },
     "execution_count": 16,
     "metadata": {},
     "output_type": "execute_result"
    },
    {
     "data": {
      "image/png": "[encoded data removed]",
      "text/plain": [
       "<Figure size 600x500 with 2 Axes>"
      ]
     },
     "metadata": {},
     "output_type": "display_data"
    }
   ],
   "source": [
    "x=z=y=np.linspace(-size/autocm, size/autocm, nx)\n",
    "temp = np.reshape(temp, (nx, ny, nz)) # reshape the density structure.\n",
    "xx, yy = np.meshgrid(x, y)# create grid for figure\n",
    "\n",
    "\n",
    "fig = plt.figure(figsize=(6, 5.))\n",
    "ax = fig.add_subplot(111)\n",
    "plt.xlabel(r'x [au]', fontsize = 17)\n",
    "plt.ylabel(r'y [au]', fontsize = 17, labelpad=-7.4)\n",
    "\n",
    "ax.set_xlim(-4000, 4000)\n",
    "ax.set_ylim(-4000, 4000)\n",
    "ax.tick_params(labelsize=17)\n",
    "t = plt.pcolormesh(z, x, 100*(coltemp_ilseung[:, :]-coltemp[:, :])/coltemp_ilseung[:,  :], cmap='seismic', shading='gouraud', vmin=-20, vmax=20)\n",
    "clr = plt.colorbar(t, pad=0.01)\n",
    "ax.text(0.05, 0.95, 'polaris - radmc3d (%)', horizontalalignment='left',verticalalignment='center', transform=ax.transAxes)\n"
   ]
  },
  {
   "cell_type": "code",
   "execution_count": 15,
   "id": "d93635ae",
   "metadata": {},
   "outputs": [
    {
     "data": {
      "text/plain": [
       "Text(0.05, 0.95, 'polaris - radmc3d (%)')"
      ]
     },
     "execution_count": 15,
     "metadata": {},
     "output_type": "execute_result"
    },
    {
     "data": {
      "image/png": "[encoded data removed]",
      "text/plain": [
       "<Figure size 600x500 with 2 Axes>"
      ]
     },
     "metadata": {},
     "output_type": "display_data"
    }
   ],
   "source": [
    "x=z=y=np.linspace(-size/autocm, size/autocm, nx)\n",
    "temp = np.reshape(temp, (nx, ny, nz)) # reshape the density structure.\n",
    "xx, yy = np.meshgrid(x, y)# create grid for figure\n",
    "\n",
    "\n",
    "fig = plt.figure(figsize=(6, 5.))\n",
    "ax = fig.add_subplot(111)\n",
    "plt.xlabel(r'x [au]', fontsize = 17)\n",
    "plt.ylabel(r'y [au]', fontsize = 17, labelpad=-7.4)\n",
    "\n",
    "ax.set_xlim(-4000, 4000)\n",
    "ax.set_ylim(-4000, 4000)\n",
    "ax.tick_params(labelsize=17)\n",
    "t = plt.pcolormesh(z, x, 100*(coltemp_ilseung[:, :]-coltemp[:, :])/coltemp_ilseung[:,  :], cmap='seismic', shading='gouraud', vmin=-20, vmax=20)\n",
    "clr = plt.colorbar(t, pad=0.01)\n",
    "ax.text(0.05, 0.95, 'polaris - radmc3d (%)', horizontalalignment='left',verticalalignment='center', transform=ax.transAxes)"
   ]
  },
  {
   "cell_type": "code",
   "execution_count": null,
   "metadata": {},
   "outputs": [],
   "source": []
  },
  {
   "cell_type": "code",
   "execution_count": 23,
   "id": "ef3c4e9f",
   "metadata": {},
   "outputs": [
    {
     "name": "stdout",
     "output_type": "stream",
     "text": [
      "0.27\n",
      "0.2829399052836239\n",
      "0.2964999629700225\n",
      "0.3107098942197636\n",
      "0.32560084459712857\n",
      "0.34120545233547966\n",
      "0.35755791987428387\n",
      "0.37469408882459065\n",
      "0.39265151852727204\n",
      "0.41146956837621274\n",
      "0.43118948408688607\n",
      "0.45185448809940076\n",
      "0.47350987431416597\n",
      "0.4962031073678177\n",
      "0.5199839266670008\n",
      "0.5449044554080297\n",
      "0.57101931482138\n",
      "0.5983857438914114\n",
      "0.6270637248137287\n",
      "0.6571161144651586\n",
      "0.6886087821744998\n",
      "0.7216107540960169\n",
      "0.7561943645021165\n",
      "0.7924354143268112\n",
      "0.8304133373074711\n",
      "0.8702113740890146\n",
      "0.9119167546721407\n",
      "0.9556208896055006\n",
      "1.0014195703408622\n",
      "1.0494131791904107\n",
      "1.0997069093463756\n",
      "1.1524109954452235\n",
      "1.2076409551817713\n",
      "1.265517842502798\n",
      "1.3261685129351029\n",
      "1.3897259016295642\n",
      "1.456329314730621\n",
      "1.5261247347098035\n",
      "1.599265140332546\n",
      "1.6759108419596\n",
      "1.7562298329179544\n",
      "1.8403981577114097\n",
      "1.9286002978778598\n",
      "2.0210295763390023\n",
      "2.11788858112874\n",
      "2.2193896094290158\n",
      "2.3257551328863144\n",
      "2.437218285228725\n",
      "2.55402337325234\n",
      "2.6764264122969585\n",
      "2.8046956873847813\n",
      "2.939112341251994\n",
      "3.079970990562108\n",
      "3.2275803716516744\n",
      "3.3822640172237346\n",
      "3.544360965472195\n",
      "3.7142265031913966\n",
      "3.892232944499627\n",
      "4.078770446883426\n",
      "4.274247866351262\n",
      "4.479093653570954\n",
      "4.693756792954987\n",
      "4.91870778675204\n",
      "5.15443968630165\n",
      "5.401469172712374\n",
      "5.6603376893320485\n",
      "5.931612628492357\n",
      "6.215888575128798\n",
      "6.51378861000186\n",
      "6.82596567537583\n",
      "7.153104006148538\n",
      "7.495920629568807\n",
      "7.855166936828742\n",
      "8.231630329975479\n",
      "8.626135947752102\n",
      "9.03954847415053\n",
      "9.472774033640288\n",
      "9.92676217722724\n",
      "10.402507963695315\n",
      "10.901054140592953\n",
      "11.423493429744541\n",
      "11.97097092229637\n",
      "12.544686588546483\n",
      "13.145897908059588\n",
      "13.775922625831738\n",
      "14.436141640545797\n",
      "15.128002031248172\n",
      "15.853020229080842\n",
      "16.612785341020395\n",
      "17.40896263290921\n",
      "18.243297179412885\n",
      "19.117617688904023\n",
      "20.033840511655693\n",
      "20.993973840129957\n",
      "22.000122110567585\n",
      "23.05449061552649\n",
      "24.159390337478744\n",
      "25.317243014060505\n",
      "26.53058644607692\n",
      "27.80208005989631\n",
      "29.134510736425145\n",
      "30.530798919440198\n",
      "31.994005016665838\n",
      "33.52733610762674\n",
      "35.13415297297827\n",
      "36.817977460721565\n",
      "38.58250020544874\n",
      "40.43158871753728\n",
      "42.369295860023826\n",
      "44.39986873173696\n",
      "46.527757976159215\n",
      "48.75762753642177\n",
      "51.094364877812545\n",
      "53.54309170020445\n",
      "56.10917516388235\n",
      "58.798239653374566\n",
      "61.61617910507266\n",
      "64.5691699256595\n",
      "67.66368452966042\n",
      "70.90650552578936\n",
      "74.30474058318367\n",
      "77.86583801011197\n",
      "81.5976030793003\n",
      "85.50821513565921\n",
      "89.60624552390797\n",
      "93.90067637539136\n",
      "98.40092029526463\n",
      "103.11684099319851\n",
      "108.05877490282255\n",
      "113.23755383729277\n",
      "118.66452873064027\n",
      "124.35159451693787\n",
      "130.31121620181483\n",
      "136.55645618346415\n",
      "143.1010028830249\n",
      "149.9592007470913\n",
      "157.14608168811094\n",
      "164.67739803158048\n",
      "172.56965704225559\n",
      "180.8401571050491\n",
      "189.50702563991945\n",
      "198.5892588338522\n",
      "208.10676327701927\n",
      "218.08039959437545\n",
      "228.53202816832385\n",
      "239.4845570526667\n",
      "250.96199218286003\n",
      "262.9894899926221\n",
      "275.59341255222614\n",
      "288.8013853493242\n",
      "302.6423578389524\n",
      "317.1466668954289\n",
      "332.346103305221\n",
      "348.27398144652113\n",
      "364.9652123082566\n",
      "382.456380008577\n",
      "400.785821980535\n",
      "419.9937130007108\n",
      "440.12215324495827\n",
      "461.2152605642707\n",
      "483.3192671830247\n",
      "506.48262103153894\n",
      "530.7560919350562\n",
      "556.1928828918933\n",
      "582.8487466846592\n",
      "610.7821080801347\n",
      "640.0541918856497\n",
      "670.7291571426376\n",
      "702.8742377514918\n",
      "736.5598898359505\n",
      "771.859946170001\n",
      "808.8517780057892\n",
      "847.6164646572178\n",
      "888.2389712109382\n",
      "930.8083347542458\n",
      "975.4178595280517\n",
      "1022.1653214326745\n",
      "1071.1531823346884\n",
      "1122.4888146445521\n",
      "1176.2847366572473\n",
      "1232.6588591717557\n",
      "1291.734743929914\n",
      "1353.6418744410964\n",
      "1418.5159397863367\n",
      "1486.4991320239142\n",
      "1557.7404578482792\n",
      "1632.396065185411\n",
      "1710.6295854404464\n",
      "1792.612492147721\n",
      "1878.5244768093228\n",
      "1968.5538427459219\n",
      "2062.8979178231293\n",
      "2161.7634869580043\n",
      "2265.3672453536847\n",
      "2373.936273455539\n",
      "2487.708534669886\n",
      "2606.933396936149\n",
      "2731.8721792956662\n",
      "2862.798724655125\n",
      "3000.0000000000014\n"
     ]
    }
   ],
   "source": [
    "lam = np.logspace(np.log10(0.27), np.log10(3000), 200)\n",
    "for il in lam:\n",
    "    print(il)"
   ]
  },
  {
   "cell_type": "code",
   "execution_count": null,
   "id": "c4311f43",
   "metadata": {},
   "outputs": [],
   "source": []
  }
 ],
 "metadata": {
  "kernelspec": {
   "display_name": "pymses_env",
   "language": "python",
   "name": "python3"
  },
  "language_info": {
   "codemirror_mode": {
    "name": "ipython",
    "version": 3
   },
   "file_extension": ".py",
   "mimetype": "text/x-python",
   "name": "python",
   "nbconvert_exporter": "python",
   "pygments_lexer": "ipython3",
   "version": "3.10.16"
  }
 },
 "nbformat": 4,
 "nbformat_minor": 5
}
